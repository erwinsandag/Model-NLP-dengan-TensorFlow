{
  "nbformat": 4,
  "nbformat_minor": 0,
  "metadata": {
    "colab": {
      "name": "Untitled42.ipynb",
      "provenance": []
    },
    "kernelspec": {
      "name": "python3",
      "display_name": "Python 3"
    }
  },
  "cells": [
    {
      "cell_type": "code",
      "metadata": {
        "id": "Ti48UnTju5pm",
        "colab_type": "code",
        "colab": {}
      },
      "source": [
        "import pandas as pd\n",
        "df = pd.read_csv('/content/drive/My Drive/Colab Notebooks/Food_Reviews.csv')"
      ],
      "execution_count": 16,
      "outputs": []
    },
    {
      "cell_type": "markdown",
      "metadata": {
        "id": "tD5s4NnbdFbN",
        "colab_type": "text"
      },
      "source": [
        "Dataset diambil di Google Drive, sebelumnya di download di https://www.kaggle.com/anjaliagrawal12/food-review"
      ]
    },
    {
      "cell_type": "code",
      "metadata": {
        "id": "CV_nc9pNU68L",
        "colab_type": "code",
        "colab": {
          "base_uri": "https://localhost:8080/",
          "height": 204
        },
        "outputId": "d4e6773b-7541-4d3d-f269-8f99ce226628"
      },
      "source": [
        "df.head()"
      ],
      "execution_count": 17,
      "outputs": [
        {
          "output_type": "execute_result",
          "data": {
            "text/html": [
              "<div>\n",
              "<style scoped>\n",
              "    .dataframe tbody tr th:only-of-type {\n",
              "        vertical-align: middle;\n",
              "    }\n",
              "\n",
              "    .dataframe tbody tr th {\n",
              "        vertical-align: top;\n",
              "    }\n",
              "\n",
              "    .dataframe thead th {\n",
              "        text-align: right;\n",
              "    }\n",
              "</style>\n",
              "<table border=\"1\" class=\"dataframe\">\n",
              "  <thead>\n",
              "    <tr style=\"text-align: right;\">\n",
              "      <th></th>\n",
              "      <th>Text</th>\n",
              "      <th>Score</th>\n",
              "    </tr>\n",
              "  </thead>\n",
              "  <tbody>\n",
              "    <tr>\n",
              "      <th>0</th>\n",
              "      <td>I have bought several of the Vitality canned d...</td>\n",
              "      <td>3</td>\n",
              "    </tr>\n",
              "    <tr>\n",
              "      <th>1</th>\n",
              "      <td>Product arrived labeled as Jumbo Salted Peanut...</td>\n",
              "      <td>1</td>\n",
              "    </tr>\n",
              "    <tr>\n",
              "      <th>2</th>\n",
              "      <td>This is a confection that has been around a fe...</td>\n",
              "      <td>3</td>\n",
              "    </tr>\n",
              "    <tr>\n",
              "      <th>3</th>\n",
              "      <td>If you are looking for the secret ingredient i...</td>\n",
              "      <td>1</td>\n",
              "    </tr>\n",
              "    <tr>\n",
              "      <th>4</th>\n",
              "      <td>Great taffy at a great price.  There was a wid...</td>\n",
              "      <td>3</td>\n",
              "    </tr>\n",
              "  </tbody>\n",
              "</table>\n",
              "</div>"
            ],
            "text/plain": [
              "                                                Text  Score\n",
              "0  I have bought several of the Vitality canned d...      3\n",
              "1  Product arrived labeled as Jumbo Salted Peanut...      1\n",
              "2  This is a confection that has been around a fe...      3\n",
              "3  If you are looking for the secret ingredient i...      1\n",
              "4  Great taffy at a great price.  There was a wid...      3"
            ]
          },
          "metadata": {
            "tags": []
          },
          "execution_count": 17
        }
      ]
    },
    {
      "cell_type": "markdown",
      "metadata": {
        "id": "0xpO0e1jdYE1",
        "colab_type": "text"
      },
      "source": [
        "Informasi Dataset, yaitu terdiri dari 2 Kolom dan sebanyak 9998 baris/sampel data"
      ]
    },
    {
      "cell_type": "code",
      "metadata": {
        "id": "Iz3Y3g-cdSQ2",
        "colab_type": "code",
        "colab": {
          "base_uri": "https://localhost:8080/",
          "height": 170
        },
        "outputId": "ace79d21-d8c4-435b-f3ab-2adb72d8360d"
      },
      "source": [
        "df.info()"
      ],
      "execution_count": 18,
      "outputs": [
        {
          "output_type": "stream",
          "text": [
            "<class 'pandas.core.frame.DataFrame'>\n",
            "RangeIndex: 9999 entries, 0 to 9998\n",
            "Data columns (total 2 columns):\n",
            " #   Column  Non-Null Count  Dtype \n",
            "---  ------  --------------  ----- \n",
            " 0   Text    9999 non-null   object\n",
            " 1   Score   9999 non-null   int64 \n",
            "dtypes: int64(1), object(1)\n",
            "memory usage: 156.4+ KB\n"
          ],
          "name": "stdout"
        }
      ]
    },
    {
      "cell_type": "markdown",
      "metadata": {
        "id": "j_n2A6owdxNu",
        "colab_type": "text"
      },
      "source": [
        "Melakukan proses one-hot-encoding, karena data kategorikal"
      ]
    },
    {
      "cell_type": "code",
      "metadata": {
        "id": "w5vW1igWkLku",
        "colab_type": "code",
        "colab": {
          "base_uri": "https://localhost:8080/",
          "height": 419
        },
        "outputId": "78a1ec0d-defe-442f-b5df-85b915ea927c"
      },
      "source": [
        "category = pd.get_dummies(df.Score)\n",
        "df_baru = pd.concat([df, category], axis=1)\n",
        "df_baru = df_baru.drop(columns='Score')\n",
        "df_baru"
      ],
      "execution_count": 19,
      "outputs": [
        {
          "output_type": "execute_result",
          "data": {
            "text/html": [
              "<div>\n",
              "<style scoped>\n",
              "    .dataframe tbody tr th:only-of-type {\n",
              "        vertical-align: middle;\n",
              "    }\n",
              "\n",
              "    .dataframe tbody tr th {\n",
              "        vertical-align: top;\n",
              "    }\n",
              "\n",
              "    .dataframe thead th {\n",
              "        text-align: right;\n",
              "    }\n",
              "</style>\n",
              "<table border=\"1\" class=\"dataframe\">\n",
              "  <thead>\n",
              "    <tr style=\"text-align: right;\">\n",
              "      <th></th>\n",
              "      <th>Text</th>\n",
              "      <th>1</th>\n",
              "      <th>2</th>\n",
              "      <th>3</th>\n",
              "    </tr>\n",
              "  </thead>\n",
              "  <tbody>\n",
              "    <tr>\n",
              "      <th>0</th>\n",
              "      <td>I have bought several of the Vitality canned d...</td>\n",
              "      <td>0</td>\n",
              "      <td>0</td>\n",
              "      <td>1</td>\n",
              "    </tr>\n",
              "    <tr>\n",
              "      <th>1</th>\n",
              "      <td>Product arrived labeled as Jumbo Salted Peanut...</td>\n",
              "      <td>1</td>\n",
              "      <td>0</td>\n",
              "      <td>0</td>\n",
              "    </tr>\n",
              "    <tr>\n",
              "      <th>2</th>\n",
              "      <td>This is a confection that has been around a fe...</td>\n",
              "      <td>0</td>\n",
              "      <td>0</td>\n",
              "      <td>1</td>\n",
              "    </tr>\n",
              "    <tr>\n",
              "      <th>3</th>\n",
              "      <td>If you are looking for the secret ingredient i...</td>\n",
              "      <td>1</td>\n",
              "      <td>0</td>\n",
              "      <td>0</td>\n",
              "    </tr>\n",
              "    <tr>\n",
              "      <th>4</th>\n",
              "      <td>Great taffy at a great price.  There was a wid...</td>\n",
              "      <td>0</td>\n",
              "      <td>0</td>\n",
              "      <td>1</td>\n",
              "    </tr>\n",
              "    <tr>\n",
              "      <th>...</th>\n",
              "      <td>...</td>\n",
              "      <td>...</td>\n",
              "      <td>...</td>\n",
              "      <td>...</td>\n",
              "    </tr>\n",
              "    <tr>\n",
              "      <th>9994</th>\n",
              "      <td>Their Earl Grey and English breakfast do not c...</td>\n",
              "      <td>1</td>\n",
              "      <td>0</td>\n",
              "      <td>0</td>\n",
              "    </tr>\n",
              "    <tr>\n",
              "      <th>9995</th>\n",
              "      <td>My daughter loves this tea and so I purchased ...</td>\n",
              "      <td>0</td>\n",
              "      <td>1</td>\n",
              "      <td>0</td>\n",
              "    </tr>\n",
              "    <tr>\n",
              "      <th>9996</th>\n",
              "      <td>I honestly don't know how this item is allowed...</td>\n",
              "      <td>1</td>\n",
              "      <td>0</td>\n",
              "      <td>0</td>\n",
              "    </tr>\n",
              "    <tr>\n",
              "      <th>9997</th>\n",
              "      <td>Enjoy the taste of the tea, however I think it...</td>\n",
              "      <td>0</td>\n",
              "      <td>1</td>\n",
              "      <td>0</td>\n",
              "    </tr>\n",
              "    <tr>\n",
              "      <th>9998</th>\n",
              "      <td>Great service!  Arrived in great time, and thi...</td>\n",
              "      <td>0</td>\n",
              "      <td>0</td>\n",
              "      <td>1</td>\n",
              "    </tr>\n",
              "  </tbody>\n",
              "</table>\n",
              "<p>9999 rows × 4 columns</p>\n",
              "</div>"
            ],
            "text/plain": [
              "                                                   Text  1  2  3\n",
              "0     I have bought several of the Vitality canned d...  0  0  1\n",
              "1     Product arrived labeled as Jumbo Salted Peanut...  1  0  0\n",
              "2     This is a confection that has been around a fe...  0  0  1\n",
              "3     If you are looking for the secret ingredient i...  1  0  0\n",
              "4     Great taffy at a great price.  There was a wid...  0  0  1\n",
              "...                                                 ... .. .. ..\n",
              "9994  Their Earl Grey and English breakfast do not c...  1  0  0\n",
              "9995  My daughter loves this tea and so I purchased ...  0  1  0\n",
              "9996  I honestly don't know how this item is allowed...  1  0  0\n",
              "9997  Enjoy the taste of the tea, however I think it...  0  1  0\n",
              "9998  Great service!  Arrived in great time, and thi...  0  0  1\n",
              "\n",
              "[9999 rows x 4 columns]"
            ]
          },
          "metadata": {
            "tags": []
          },
          "execution_count": 19
        }
      ]
    },
    {
      "cell_type": "markdown",
      "metadata": {
        "id": "nc_yU4vpeYLd",
        "colab_type": "text"
      },
      "source": [
        "Mengubah nilai-nilai dari dataframe ke dalam tipe data numpy array menggunakan atribut values"
      ]
    },
    {
      "cell_type": "code",
      "metadata": {
        "id": "yBai9h7HlbO1",
        "colab_type": "code",
        "colab": {}
      },
      "source": [
        "reviews = df_baru['Text'].values\n",
        "score = df_baru[[1, 2, 3]].values"
      ],
      "execution_count": 20,
      "outputs": []
    },
    {
      "cell_type": "code",
      "metadata": {
        "id": "YyTAOJOkm-9f",
        "colab_type": "code",
        "colab": {
          "base_uri": "https://localhost:8080/",
          "height": 136
        },
        "outputId": "0a7e4c1f-a1fb-497e-97db-3b6696cd5509"
      },
      "source": [
        "score"
      ],
      "execution_count": 21,
      "outputs": [
        {
          "output_type": "execute_result",
          "data": {
            "text/plain": [
              "array([[0, 0, 1],\n",
              "       [1, 0, 0],\n",
              "       [0, 0, 1],\n",
              "       ...,\n",
              "       [1, 0, 0],\n",
              "       [0, 1, 0],\n",
              "       [0, 0, 1]], dtype=uint8)"
            ]
          },
          "metadata": {
            "tags": []
          },
          "execution_count": 21
        }
      ]
    },
    {
      "cell_type": "markdown",
      "metadata": {
        "id": "tss6Pi-deh2d",
        "colab_type": "text"
      },
      "source": [
        "Membagi data untuk training dan data untuk testing, dimana validasi set 20%"
      ]
    },
    {
      "cell_type": "code",
      "metadata": {
        "id": "c2DkrbXpnAKe",
        "colab_type": "code",
        "colab": {}
      },
      "source": [
        "from sklearn.model_selection import train_test_split\n",
        "reviews_latih, reviews_test, score_latih, score_test = train_test_split(reviews, score , test_size=0.2)"
      ],
      "execution_count": 22,
      "outputs": []
    },
    {
      "cell_type": "markdown",
      "metadata": {
        "id": "KIXeZq0fepP2",
        "colab_type": "text"
      },
      "source": [
        "Merubah setiap kata pada dataset ke dalam bilangan numerik dengan fungsi Tokenizer. Setelah tokenisasi selesai, perlu membuat mengonversi setiap sampel menjadi sequence."
      ]
    },
    {
      "cell_type": "code",
      "metadata": {
        "id": "D8KYHHI_nnc4",
        "colab_type": "code",
        "colab": {}
      },
      "source": [
        "from tensorflow.keras.preprocessing.text import Tokenizer\n",
        "from tensorflow.keras.preprocessing.sequence import pad_sequences\n",
        " \n",
        "tokenizer = Tokenizer(num_words=5000, oov_token='x')\n",
        "tokenizer.fit_on_texts(reviews_latih) \n",
        "tokenizer.fit_on_texts(reviews_test)\n",
        " \n",
        "sekuens_latih = tokenizer.texts_to_sequences(reviews_latih)\n",
        "sekuens_test = tokenizer.texts_to_sequences(reviews_test)\n",
        " \n",
        "padded_latih = pad_sequences(sekuens_latih) \n",
        "padded_test = pad_sequences(sekuens_test)"
      ],
      "execution_count": 23,
      "outputs": []
    },
    {
      "cell_type": "markdown",
      "metadata": {
        "id": "al0ls8cRe-i1",
        "colab_type": "text"
      },
      "source": [
        "Model aksitektur menggunakan Layer Embedding, fungsi compile, menentukan optimizer dan menggunakan model loss function dimana model lebih dari 2"
      ]
    },
    {
      "cell_type": "code",
      "metadata": {
        "id": "SKD4TrgXn69s",
        "colab_type": "code",
        "colab": {}
      },
      "source": [
        "import tensorflow as tf\n",
        "model = tf.keras.Sequential([\n",
        "    tf.keras.layers.Embedding(input_dim=5000, output_dim=16),\n",
        "    tf.keras.layers.LSTM(64),\n",
        "    tf.keras.layers.Dense(128, activation='relu'),\n",
        "    tf.keras.layers.Dense(64, activation='relu'),\n",
        "    tf.keras.layers.Dense(3, activation='softmax')\n",
        "])\n",
        "model.compile(loss='categorical_crossentropy',optimizer='adam',metrics=['accuracy'])"
      ],
      "execution_count": 24,
      "outputs": []
    },
    {
      "cell_type": "markdown",
      "metadata": {
        "id": "XtkEf8nBcen-",
        "colab_type": "text"
      },
      "source": [
        "Penggunaan fungsi callback, untuk membantu model jika sudah mencapai target >90%"
      ]
    },
    {
      "cell_type": "code",
      "metadata": {
        "id": "i2cBFKqPVz5a",
        "colab_type": "code",
        "colab": {}
      },
      "source": [
        "class myCallback(tf.keras.callbacks.Callback):\n",
        "  def on_epoch_end(self, epoch, logs={}):\n",
        "    if(logs.get('accuracy')>0.9):\n",
        "      print(\"\\nAkurasi telah mencapai >90%!\")\n",
        "      self.model.stop_training = True\n",
        "callbacks = myCallback()"
      ],
      "execution_count": 25,
      "outputs": []
    },
    {
      "cell_type": "code",
      "metadata": {
        "id": "IAdT2BJln_lq",
        "colab_type": "code",
        "colab": {
          "base_uri": "https://localhost:8080/",
          "height": 255
        },
        "outputId": "802a5464-565a-403d-fba3-279099a7ca12"
      },
      "source": [
        "num_epochs = 23\n",
        "history = model.fit(padded_latih, score_latih, epochs=num_epochs, callbacks=[callbacks],\n",
        "                    validation_data=(padded_test, score_test), verbose=2)"
      ],
      "execution_count": 26,
      "outputs": [
        {
          "output_type": "stream",
          "text": [
            "Epoch 1/23\n",
            "250/250 - 328s - loss: 0.6262 - accuracy: 0.7777 - val_loss: 0.5282 - val_accuracy: 0.7940\n",
            "Epoch 2/23\n",
            "250/250 - 310s - loss: 0.4521 - accuracy: 0.8312 - val_loss: 0.5066 - val_accuracy: 0.8110\n",
            "Epoch 3/23\n",
            "250/250 - 307s - loss: 0.3581 - accuracy: 0.8602 - val_loss: 0.5082 - val_accuracy: 0.8195\n",
            "Epoch 4/23\n",
            "250/250 - 307s - loss: 0.3143 - accuracy: 0.8779 - val_loss: 0.5207 - val_accuracy: 0.8235\n",
            "Epoch 5/23\n",
            "250/250 - 306s - loss: 0.2671 - accuracy: 0.8906 - val_loss: 0.6079 - val_accuracy: 0.8125\n",
            "Epoch 6/23\n",
            "\n",
            "Akurasi telah mencapai >90%!\n",
            "250/250 - 305s - loss: 0.2218 - accuracy: 0.9122 - val_loss: 0.7202 - val_accuracy: 0.8030\n"
          ],
          "name": "stdout"
        }
      ]
    },
    {
      "cell_type": "markdown",
      "metadata": {
        "id": "fFXvYTdyc0J1",
        "colab_type": "text"
      },
      "source": [
        "Plot Loss dan Akurasi pada saat  training dan validasi"
      ]
    },
    {
      "cell_type": "code",
      "metadata": {
        "id": "vxeu8c2AbwAU",
        "colab_type": "code",
        "colab": {
          "base_uri": "https://localhost:8080/",
          "height": 1000
        },
        "outputId": "edaf2da5-1fe7-416d-e2fd-253d1b948651"
      },
      "source": [
        "import matplotlib.pyplot as plt\n",
        "\n",
        "history_dict = history.history\n",
        "\n",
        "acc = history_dict['accuracy']\n",
        "val_acc = history_dict['val_accuracy']\n",
        "loss=history_dict['loss']\n",
        "val_loss=history_dict['val_loss']\n",
        "\n",
        "epochs = range(1, len(acc) + 1)\n",
        "\n",
        "plt.figure(figsize=(12,9))\n",
        "plt.plot(epochs, loss, 'bo', label='Training loss')\n",
        "plt.plot(epochs, val_loss, 'b', label='Validation loss')\n",
        "plt.title('Training and validation loss')\n",
        "plt.xlabel('Epochs')\n",
        "plt.ylabel('Loss')\n",
        "plt.legend()\n",
        "plt.show()\n",
        "\n",
        "plt.figure(figsize=(12,9))\n",
        "plt.plot(epochs, acc, 'bo', label='Training acc')\n",
        "plt.plot(epochs, val_acc, 'b', label='Validation acc')\n",
        "plt.title('Training and validation accuracy')\n",
        "plt.xlabel('Epochs')\n",
        "plt.ylabel('Accuracy')\n",
        "plt.legend(loc='lower right')\n",
        "plt.ylim((0.5,1))\n",
        "plt.show()"
      ],
      "execution_count": 27,
      "outputs": [
        {
          "output_type": "display_data",
          "data": {
            "image/png": "[encoded data removed]",
            "text/plain": [
              "<Figure size 864x648 with 1 Axes>"
            ]
          },
          "metadata": {
            "tags": [],
            "needs_background": "light"
          }
        },
        {
          "output_type": "display_data",
          "data": {
            "image/png": "[encoded data removed]",
            "text/plain": [
              "<Figure size 864x648 with 1 Axes>"
            ]
          },
          "metadata": {
            "tags": [],
            "needs_background": "light"
          }
        }
      ]
    }
  ]
}